{
 "cells": [
  {
   "cell_type": "markdown",
   "metadata": {},
   "source": [
    "## Accessing the Google analytics for Axiom Data Services ##\n",
    "\n",
    "This is configured to use a different key for Axiom owned service (which we have limited access to) and CeNCOOS owned services.\n",
    "\n",
    "Additionally, each property has a different view, which are identified as the `VIEW_ID` value below. In this case `VIEW_ID` corresponds to CeNCOOS data services view.\n",
    "\n",
    "`data-services: 180542384`<br>\n",
    "`data-portal: 81137966`"
   ]
  },
  {
   "cell_type": "code",
   "execution_count": 3,
   "metadata": {},
   "outputs": [],
   "source": [
    "import pandas as pd\n",
    "import os\n",
    "from googleapiclient.discovery import build\n",
    "from google.oauth2 import service_account"
   ]
  },
  {
   "cell_type": "code",
   "execution_count": 9,
   "metadata": {},
   "outputs": [],
   "source": [
    "SCOPES = ['https://www.googleapis.com/auth/analytics.readonly']\n",
    "BASE_DIR = '/home/pdaniel/web-analytics/'\n",
    "KEY_FILE_LOCATION = os.path.join(BASE_DIR,'keys/resounding-axe-293817-00844a9aafb0.json')\n",
    "VIEW_ID = \"180542384\"\n",
    "FILE_NAME = 'portal-analytics-data.csv'"
   ]
  },
  {
   "cell_type": "code",
   "execution_count": 15,
   "metadata": {},
   "outputs": [],
   "source": [
    "def initialize_analyticsreporting():\n",
    "    \"\"\"Establish a connection with the google reporting API V4\"\"\"\n",
    "    credentials = service_account.Credentials.from_service_account_file(KEY_FILE_LOCATION)\n",
    "    analytics = build('analyticsreporting', 'v4', credentials=credentials, cache_discovery=False)\n",
    "    return analytics\n",
    "\n",
    "def print_response(response):\n",
    "    list = []\n",
    "    # get report data\n",
    "    for report in response.get('reports', []):\n",
    "    # set column headers\n",
    "        columnHeader = report.get('columnHeader', {})\n",
    "        dimensionHeaders = columnHeader.get('dimensions', [])\n",
    "        metricHeaders = columnHeader.get('metricHeader', {}).get('metricHeaderEntries', [])\n",
    "        rows = report.get('data', {}).get('rows', [])\n",
    "\n",
    "    for row in rows:\n",
    "        # create dict for each row\n",
    "        dict = {}\n",
    "        dimensions = row.get('dimensions', [])\n",
    "        dateRangeValues = row.get('metrics', [])\n",
    "\n",
    "        # fill dict with dimension header (key) and dimension value (value)\n",
    "        for header, dimension in zip(dimensionHeaders, dimensions):\n",
    "            dict[header] = dimension\n",
    "\n",
    "        # fill dict with metric header (key) and metric value (value)\n",
    "        for i, values in enumerate(dateRangeValues):\n",
    "            for metric, value in zip(metricHeaders, values.get('values')):\n",
    "            #set int as int, float a float\n",
    "                if ',' in value or '.' in value:\n",
    "                    dict[metric.get('name')] = float(value)\n",
    "                else:\n",
    "                    dict[metric.get('name')] = int(value)\n",
    "\n",
    "        list.append(dict)\n",
    "\n",
    "    df = pd.DataFrame(list)\n",
    "    return df\n",
    "\n",
    "\n",
    "def get_report(analytics,metric):\n",
    "    return analytics.reports().batchGet(\n",
    "      body={\n",
    "        'reportRequests': [\n",
    "        {\n",
    "          'viewId': VIEW_ID,\n",
    "          'dimensions': [{'name': 'ga:date'}],\n",
    "          'metrics': [{'expression': metric}],\n",
    "          'dateRanges': [{'startDate': '30daysAgo', 'endDate': 'today'}]\n",
    "        }]\n",
    "      }\n",
    "  ).execute()\n",
    "\n",
    "def write_dataframe(df):\n",
    "    out_df = df[['date','sessions','users']].copy(deep=True)\n",
    "    out_df['date'] = pd.to_datetime(out_df['date'])\n",
    "    out_df['sessions'] = out_df['sessions'].astype(str)\n",
    "    out_df['users'] = out_df['users'].astype(str)\n",
    "    out_df.to_csv(os.path.join(BASE_DIR,FILE_NAME),index=False)\n",
    "\n",
    "def copy_file_to_webserver():\n",
    "    \"\"\"Copy images from model runs to webserver where they can be viewed publically.\"\"\"\n",
    "    try:\n",
    "        os.system('scp -i /etc/ssh/keys/pdaniel/scp_rsa {} skyrocket8.mbari.org:/var/www/html/data/web-analytics/ '.format(os.path.join(BASE_DIR,FILE_NAME)))\n",
    "    except:\n",
    "        logging.debug('Unabled to Copy Analytics File to Skyrocket')\n",
    "\n"
   ]
  },
  {
   "cell_type": "code",
   "execution_count": 20,
   "metadata": {},
   "outputs": [],
   "source": [
    "def build_dataframe():\n",
    "    metrics = [\n",
    "        \"ga:users\",\n",
    "        \"ga:newUsers\",\n",
    "        \"ga:percentNewSessions\",\n",
    "        \"ga:sessions\",\n",
    "        \"ga:bounces\",\n",
    "        \"ga:sessionDuration\",\n",
    "        \"ga:entrances\",\n",
    "        \"ga:pageviews\",\n",
    "        \"ga:pageviewsPerSession\"\n",
    "    ]\n",
    "    for i, metric in enumerate(metrics):\n",
    "        \"\"\" Build a dataframe for each varaible \"\"\"\n",
    "        response = get_report(initialize_analyticsreporting(),metric) # read data from a JSON format\n",
    "        if i == 0:\n",
    "            df = print_response(response)\n",
    "        else:\n",
    "            df[metric] = print_response(response)[metric]\n",
    "            \n",
    "    for col in df.columns:\n",
    "        new_name = col.split(\":\")[-1]\n",
    "        df.rename(columns={col:new_name},inplace=True)\n",
    "    write_dataframe(df)\n"
   ]
  },
  {
   "cell_type": "code",
   "execution_count": 22,
   "metadata": {},
   "outputs": [],
   "source": [
    "build_dataframe()\n",
    "copy_file_to_webserver()"
   ]
  },
  {
   "cell_type": "code",
   "execution_count": null,
   "metadata": {},
   "outputs": [],
   "source": []
  }
 ],
 "metadata": {
  "kernelspec": {
   "display_name": "Python 3",
   "language": "python",
   "name": "python3"
  },
  "language_info": {
   "codemirror_mode": {
    "name": "ipython",
    "version": 3
   },
   "file_extension": ".py",
   "mimetype": "text/x-python",
   "name": "python",
   "nbconvert_exporter": "python",
   "pygments_lexer": "ipython3",
   "version": "3.8.5"
  }
 },
 "nbformat": 4,
 "nbformat_minor": 4
}
